{
 "cells": [
  {
   "cell_type": "code",
   "execution_count": 1,
   "metadata": {},
   "outputs": [],
   "source": [
    "import pandas as pd\n",
    "import numpy as np\n",
    "import matplotlib as mpl\n",
    "import matplotlib.pyplot as plt\n",
    "import seaborn as sns\n",
    "\n",
    "# Libreria para estimar regresión\n",
    "import statsmodels.formula.api as sm\n",
    "\n",
    "# Libreria para normalizar\n",
    "from sklearn.preprocessing import StandardScaler"
   ]
  },
  {
   "cell_type": "markdown",
   "metadata": {},
   "source": [
    "**OBJETIVO**\n",
    "\n",
    "Predecir la probabilidad de que una persona padezca un problema cardíaco en base a su estado de salud en general, diferenciando si es hombre o mujer "
   ]
  },
  {
   "cell_type": "markdown",
   "metadata": {},
   "source": [
    "**CONTEXTO PROFESIONAL**\n",
    "\n",
    "El área de Cardiología de la Clínica Pergamino se encuentra analizando, a partir de historias médicas de distintos pacientes que fueron atendidos en los consultorios, qué tan probable puede ser que haya muchos pacientes potenciales a sufrir problemas de corazón. \n",
    "\n",
    "\n",
    "**PROBLEMÁTICA DEL ÁREA**\n",
    "\n",
    "Para poder estar lo mejor preparados e invertir en tecnologías que ayuden a intervenir a pacientes con problemas cardiovasculares, es necesario obtener la probabilidad de que existan potenciales personas riesgosas a tener dicha afección. \n",
    "\n",
    "**CONTEXTO ANALÍTICO**\n",
    "\n",
    "Se cuenta con la siguiente información: \n",
    "    \n",
    "* Salud_general\n",
    "* Último control realizado\n",
    "* Ejercicio\n",
    "* Enfermedad del corazón preexistente\n",
    "* Cáncer de piel\n",
    "* Otro cáncer\n",
    "* Depresión\n",
    "* Diabetes\n",
    "* Artritis\n",
    "* Sexo\n",
    "* Categoría de edad\n",
    "* Altura (cm)\n",
    "* Peso (kg)\n",
    "* IMC\n",
    "* Historial de tabaquismo\n",
    "* Consumo de alcohol\n",
    "* Consumo de frutas\n",
    "* Consumo de verduras verdes\n",
    "* Consumo de papas fritas"
   ]
  }
 ],
 "metadata": {
  "kernelspec": {
   "display_name": "base",
   "language": "python",
   "name": "python3"
  },
  "language_info": {
   "codemirror_mode": {
    "name": "ipython",
    "version": 3
   },
   "file_extension": ".py",
   "mimetype": "text/x-python",
   "name": "python",
   "nbconvert_exporter": "python",
   "pygments_lexer": "ipython3",
   "version": "3.12.4"
  }
 },
 "nbformat": 4,
 "nbformat_minor": 2
}
